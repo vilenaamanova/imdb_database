{
 "cells": [
  {
   "cell_type": "code",
   "execution_count": 5,
   "id": "b398a034-af80-4a1e-a7ad-7068b588ad26",
   "metadata": {},
   "outputs": [],
   "source": [
    "import pandas as pd\n",
    "import matplotlib.pyplot as plt"
   ]
  },
  {
   "cell_type": "code",
   "execution_count": 6,
   "id": "813bbe5f-640b-4e40-8cb3-e7c82f68d96e",
   "metadata": {},
   "outputs": [],
   "source": [
    "df = pd.read_csv('IMDbMovies.csv')"
   ]
  },
  {
   "cell_type": "code",
   "execution_count": 7,
   "id": "80c4107e-defa-40ea-85ae-f7925abf8bb7",
   "metadata": {},
   "outputs": [
    {
     "data": {
      "text/html": [
       "<div>\n",
       "<style scoped>\n",
       "    .dataframe tbody tr th:only-of-type {\n",
       "        vertical-align: middle;\n",
       "    }\n",
       "\n",
       "    .dataframe tbody tr th {\n",
       "        vertical-align: top;\n",
       "    }\n",
       "\n",
       "    .dataframe thead th {\n",
       "        text-align: right;\n",
       "    }\n",
       "</style>\n",
       "<table border=\"1\" class=\"dataframe\">\n",
       "  <thead>\n",
       "    <tr style=\"text-align: right;\">\n",
       "      <th></th>\n",
       "      <th>Title</th>\n",
       "      <th>Summary</th>\n",
       "      <th>Director</th>\n",
       "      <th>Writer</th>\n",
       "      <th>Main Genres</th>\n",
       "      <th>Motion Picture Rating</th>\n",
       "      <th>Runtime</th>\n",
       "      <th>Release Year</th>\n",
       "      <th>Rating</th>\n",
       "      <th>Number of Ratings</th>\n",
       "      <th>Budget</th>\n",
       "      <th>Gross in US &amp; Canada</th>\n",
       "      <th>Gross worldwide</th>\n",
       "      <th>Opening Weekend Gross in US &amp; Canada</th>\n",
       "    </tr>\n",
       "  </thead>\n",
       "  <tbody>\n",
       "    <tr>\n",
       "      <th>0</th>\n",
       "      <td>Napoleon</td>\n",
       "      <td>An epic that details the checkered rise and fa...</td>\n",
       "      <td>Ridley Scott</td>\n",
       "      <td>David Scarpa</td>\n",
       "      <td>Action,Adventure,Biography</td>\n",
       "      <td>R</td>\n",
       "      <td>2h 38m</td>\n",
       "      <td>2023.0</td>\n",
       "      <td>6.7/10</td>\n",
       "      <td>38K</td>\n",
       "      <td>NaN</td>\n",
       "      <td>$37,514,498</td>\n",
       "      <td>$84,968,381</td>\n",
       "      <td>$20,638,887Nov 26, 2023</td>\n",
       "    </tr>\n",
       "    <tr>\n",
       "      <th>1</th>\n",
       "      <td>The Hunger Games: The Ballad of Songbirds &amp; Sn...</td>\n",
       "      <td>Coriolanus Snow mentors and develops feelings ...</td>\n",
       "      <td>Francis Lawrence</td>\n",
       "      <td>Michael Lesslie,Michael Arndt,Suzanne Collins</td>\n",
       "      <td>Action,Adventure,Drama</td>\n",
       "      <td>PG-13</td>\n",
       "      <td>2h 37m</td>\n",
       "      <td>2023.0</td>\n",
       "      <td>7.2/10</td>\n",
       "      <td>37K</td>\n",
       "      <td>$100,000,000 (estimated)</td>\n",
       "      <td>$105,043,414</td>\n",
       "      <td>$191,729,235</td>\n",
       "      <td>$44,607,143Nov 19, 2023</td>\n",
       "    </tr>\n",
       "    <tr>\n",
       "      <th>2</th>\n",
       "      <td>The Killer</td>\n",
       "      <td>After a fateful near-miss, an assassin battles...</td>\n",
       "      <td>David Fincher</td>\n",
       "      <td>Andrew Kevin Walker,Luc Jacamon,Alexis Nolent</td>\n",
       "      <td>Action,Adventure,Crime</td>\n",
       "      <td>R</td>\n",
       "      <td>1h 58m</td>\n",
       "      <td>2023.0</td>\n",
       "      <td>6.8/10</td>\n",
       "      <td>117K</td>\n",
       "      <td>NaN</td>\n",
       "      <td>NaN</td>\n",
       "      <td>$421,332</td>\n",
       "      <td>NaN</td>\n",
       "    </tr>\n",
       "    <tr>\n",
       "      <th>3</th>\n",
       "      <td>Leo</td>\n",
       "      <td>A 74-year-old lizard named Leo and his turtle ...</td>\n",
       "      <td>David Wachtenheim,Robert Smigel,Robert Marianetti</td>\n",
       "      <td>Paul Sado,Robert Smigel,Adam Sandler</td>\n",
       "      <td>Animation,Comedy,Family</td>\n",
       "      <td>PG</td>\n",
       "      <td>1h 42m</td>\n",
       "      <td>2023.0</td>\n",
       "      <td>7.0/10</td>\n",
       "      <td>10K</td>\n",
       "      <td>NaN</td>\n",
       "      <td>NaN</td>\n",
       "      <td>NaN</td>\n",
       "      <td>NaN</td>\n",
       "    </tr>\n",
       "    <tr>\n",
       "      <th>4</th>\n",
       "      <td>Thanksgiving</td>\n",
       "      <td>After a Black Friday riot ends in tragedy, a m...</td>\n",
       "      <td>Eli Roth</td>\n",
       "      <td>Eli Roth,Jeff Rendell</td>\n",
       "      <td>Horror,Mystery,Thriller</td>\n",
       "      <td>R</td>\n",
       "      <td>1h 46m</td>\n",
       "      <td>2023.0</td>\n",
       "      <td>7.0/10</td>\n",
       "      <td>9.1K</td>\n",
       "      <td>NaN</td>\n",
       "      <td>$25,408,677</td>\n",
       "      <td>$29,666,585</td>\n",
       "      <td>$10,306,272Nov 19, 2023</td>\n",
       "    </tr>\n",
       "  </tbody>\n",
       "</table>\n",
       "</div>"
      ],
      "text/plain": [
       "                                               Title  \\\n",
       "0                                           Napoleon   \n",
       "1  The Hunger Games: The Ballad of Songbirds & Sn...   \n",
       "2                                         The Killer   \n",
       "3                                                Leo   \n",
       "4                                       Thanksgiving   \n",
       "\n",
       "                                             Summary  \\\n",
       "0  An epic that details the checkered rise and fa...   \n",
       "1  Coriolanus Snow mentors and develops feelings ...   \n",
       "2  After a fateful near-miss, an assassin battles...   \n",
       "3  A 74-year-old lizard named Leo and his turtle ...   \n",
       "4  After a Black Friday riot ends in tragedy, a m...   \n",
       "\n",
       "                                            Director  \\\n",
       "0                                       Ridley Scott   \n",
       "1                                   Francis Lawrence   \n",
       "2                                      David Fincher   \n",
       "3  David Wachtenheim,Robert Smigel,Robert Marianetti   \n",
       "4                                           Eli Roth   \n",
       "\n",
       "                                          Writer                 Main Genres  \\\n",
       "0                                   David Scarpa  Action,Adventure,Biography   \n",
       "1  Michael Lesslie,Michael Arndt,Suzanne Collins      Action,Adventure,Drama   \n",
       "2  Andrew Kevin Walker,Luc Jacamon,Alexis Nolent      Action,Adventure,Crime   \n",
       "3           Paul Sado,Robert Smigel,Adam Sandler     Animation,Comedy,Family   \n",
       "4                          Eli Roth,Jeff Rendell     Horror,Mystery,Thriller   \n",
       "\n",
       "  Motion Picture Rating Runtime  Release Year  Rating Number of Ratings  \\\n",
       "0                     R  2h 38m        2023.0  6.7/10               38K   \n",
       "1                 PG-13  2h 37m        2023.0  7.2/10               37K   \n",
       "2                     R  1h 58m        2023.0  6.8/10              117K   \n",
       "3                    PG  1h 42m        2023.0  7.0/10               10K   \n",
       "4                     R  1h 46m        2023.0  7.0/10              9.1K   \n",
       "\n",
       "                     Budget Gross in US & Canada Gross worldwide  \\\n",
       "0                       NaN         $37,514,498     $84,968,381    \n",
       "1  $100,000,000 (estimated)        $105,043,414    $191,729,235    \n",
       "2                       NaN                  NaN       $421,332    \n",
       "3                       NaN                  NaN             NaN   \n",
       "4                       NaN         $25,408,677     $29,666,585    \n",
       "\n",
       "  Opening Weekend Gross in US & Canada  \n",
       "0              $20,638,887Nov 26, 2023  \n",
       "1              $44,607,143Nov 19, 2023  \n",
       "2                                  NaN  \n",
       "3                                  NaN  \n",
       "4              $10,306,272Nov 19, 2023  "
      ]
     },
     "execution_count": 7,
     "metadata": {},
     "output_type": "execute_result"
    }
   ],
   "source": [
    "df.head()"
   ]
  },
  {
   "cell_type": "markdown",
   "id": "a263c026-5a69-4401-a78c-767298950eb2",
   "metadata": {},
   "source": [
    "### Пропущенные значения"
   ]
  },
  {
   "cell_type": "code",
   "execution_count": 8,
   "id": "246dc6f1-58f6-44fd-a39e-9de253ba47e6",
   "metadata": {},
   "outputs": [],
   "source": [
    "missing_values = df.isnull().sum()"
   ]
  },
  {
   "cell_type": "code",
   "execution_count": 9,
   "id": "68368c37-5eaa-48e9-91a6-79a75299748c",
   "metadata": {},
   "outputs": [
    {
     "name": "stdout",
     "output_type": "stream",
     "text": [
      "Количество пропущенных значений в каждой категории\n",
      "\n",
      "Title                                      0\n",
      "Summary                                    0\n",
      "Director                                  31\n",
      "Writer                                   324\n",
      "Main Genres                                7\n",
      "Motion Picture Rating                    798\n",
      "Runtime                                  165\n",
      "Release Year                               7\n",
      "Rating                                   270\n",
      "Number of Ratings                        270\n",
      "Budget                                  3204\n",
      "Gross in US & Canada                    3019\n",
      "Gross worldwide                         1955\n",
      "Opening Weekend Gross in US & Canada    3388\n",
      "dtype: int64\n"
     ]
    }
   ],
   "source": [
    "print(\"Количество пропущенных значений в каждой категории\\n\")\n",
    "print(missing_values)"
   ]
  },
  {
   "cell_type": "markdown",
   "id": "5d3902da-91c8-47d1-babd-8ab8cfc8df9c",
   "metadata": {},
   "source": [
    "##### В данном датасете есть большое количество пропущенных значений. Было принято решение оставить данные значения как есть. Дальнейший анализ был проведен с использованием столбцов, в которых содержится минимальное количество пропусков."
   ]
  },
  {
   "cell_type": "markdown",
   "id": "71e7915c-0517-4130-9fd6-fd179ffefabe",
   "metadata": {},
   "source": [
    "### Уникальные значения"
   ]
  },
  {
   "cell_type": "code",
   "execution_count": 10,
   "id": "1d8fdb58-7917-4e86-be5b-0e548c1b3ceb",
   "metadata": {},
   "outputs": [],
   "source": [
    "unique_values_categorical = df.select_dtypes(include='object').nunique()"
   ]
  },
  {
   "cell_type": "code",
   "execution_count": 11,
   "id": "8690313e-2eb8-4825-b53e-6c6230126a4d",
   "metadata": {},
   "outputs": [
    {
     "name": "stdout",
     "output_type": "stream",
     "text": [
      "Количество уникальных значений в каждой категории\n",
      "\n",
      "Title                                   8728\n",
      "Summary                                 9051\n",
      "Director                                4363\n",
      "Writer                                  7853\n",
      "Main Genres                              460\n",
      "Motion Picture Rating                     25\n",
      "Runtime                                  171\n",
      "Rating                                    82\n",
      "Number of Ratings                       1149\n",
      "Budget                                   903\n",
      "Gross in US & Canada                    6041\n",
      "Gross worldwide                         7117\n",
      "Opening Weekend Gross in US & Canada    5684\n",
      "dtype: int64\n"
     ]
    }
   ],
   "source": [
    "print(\"Количество уникальных значений в каждой категории\\n\")\n",
    "print(unique_values_categorical)"
   ]
  },
  {
   "cell_type": "code",
   "execution_count": 12,
   "id": "35f76b4e-a697-4c23-8569-b947a9d3744a",
   "metadata": {},
   "outputs": [],
   "source": [
    "numeric_columns = df.select_dtypes(include='number')"
   ]
  },
  {
   "cell_type": "code",
   "execution_count": 14,
   "id": "a2fdc9af-d002-458a-8dad-dee75aef44f9",
   "metadata": {},
   "outputs": [
    {
     "name": "stdout",
     "output_type": "stream",
     "text": [
      "Распределение фильмов по годам выпуска\n"
     ]
    },
    {
     "data": {
      "text/plain": [
       "Text(0, 0.5, 'Количество фильмов')"
      ]
     },
     "execution_count": 14,
     "metadata": {},
     "output_type": "execute_result"
    },
    {
     "data": {
      "image/png": "[encoded data removed]",
      "text/plain": [
       "<Figure size 1000x600 with 1 Axes>"
      ]
     },
     "metadata": {},
     "output_type": "display_data"
    }
   ],
   "source": [
    "print(\"Распределение фильмов по годам выпуска\")\n",
    "h = numeric_columns.hist(figsize=(10, 6))\n",
    "plt.xlabel(\"Год выпуска\")\n",
    "plt.ylabel(\"Количество фильмов\")"
   ]
  },
  {
   "cell_type": "markdown",
   "id": "bbd6fcb4-a3a7-459c-bdac-1f63ac85f59e",
   "metadata": {},
   "source": [
    "##### Был проведен анализ уникальных значений. Категории \"Title\" и \"Summary\" имеют наибольшее количество уникальных значений, соответственно 8728 и 9051. Это указывает на разнообразие фильмов в наборе данных и наличие различных описаний для каждого фильма. Категория \"Motion Picture Rating\" имеет всего 25 уникальных значений. Это указывает на использование ограниченного числа рейтинговых систем для классификации фильмов. \n",
    "##### Была построена гистограмма для числовых данных, и на основе этой гистограммы можно сделать вывод, что количество фильмов с каждым годом растет экспоненциально."
   ]
  },
  {
   "cell_type": "markdown",
   "id": "615ed41b-2058-4ad3-8290-f694c8613265",
   "metadata": {},
   "source": [
    "### Селекты"
   ]
  },
  {
   "cell_type": "code",
   "execution_count": 15,
   "id": "144c9b59-3be0-4515-b1a4-252c13d9390a",
   "metadata": {},
   "outputs": [],
   "source": [
    "df_select_1 = df[df['Release Year'] == 2023]"
   ]
  },
  {
   "cell_type": "code",
   "execution_count": 16,
   "id": "f5e7886f-efef-420f-b469-b298eb8e5c5c",
   "metadata": {},
   "outputs": [
    {
     "name": "stdout",
     "output_type": "stream",
     "text": [
      "Фильмы, выпущенные в 2023 году\n",
      "\n",
      "                                                  Title  Release Year\n",
      "0                                              Napoleon        2023.0\n",
      "1     The Hunger Games: The Ballad of Songbirds & Sn...        2023.0\n",
      "2                                            The Killer        2023.0\n",
      "3                                                   Leo        2023.0\n",
      "4                                          Thanksgiving        2023.0\n",
      "...                                                 ...           ...\n",
      "9027                                 Silver Dollar Road        2023.0\n",
      "9033                                        Due Justice        2023.0\n",
      "9038                                          The Abyss        2023.0\n",
      "9041                                             Falimy        2023.0\n",
      "9075                                              Sleep        2023.0\n",
      "\n",
      "[879 rows x 2 columns]\n"
     ]
    }
   ],
   "source": [
    "print(\"Фильмы, выпущенные в 2023 году\\n\")\n",
    "print(df_select_1.loc[:, [\"Title\", \"Release Year\"]])"
   ]
  },
  {
   "cell_type": "markdown",
   "id": "771b0b4d-1cfb-479c-a50a-c2e41e95ff56",
   "metadata": {},
   "source": [
    "##### В 2023 году было выпущено 879 фильмов."
   ]
  },
  {
   "cell_type": "code",
   "execution_count": 17,
   "id": "fbfb0cdf-67ee-4688-836c-83b928b8b833",
   "metadata": {},
   "outputs": [],
   "source": [
    "df_select_2 = df[df['Motion Picture Rating'] == 'PG-13']"
   ]
  },
  {
   "cell_type": "code",
   "execution_count": 18,
   "id": "ee438405-91c1-4e88-84e6-a13dba3404fb",
   "metadata": {},
   "outputs": [
    {
     "name": "stdout",
     "output_type": "stream",
     "text": [
      "Фильмы, чей возрастной рейтинг равен PG-13\n",
      "\n",
      "                                                  Title Motion Picture Rating\n",
      "1     The Hunger Games: The Ballad of Songbirds & Sn...                 PG-13\n",
      "7                                           The Marvels                 PG-13\n",
      "9                                           The Creator                 PG-13\n",
      "12                              Five Nights at Freddy's                 PG-13\n",
      "13                                          Blue Beetle                 PG-13\n",
      "...                                                 ...                   ...\n",
      "9049                                    Please Stand By                 PG-13\n",
      "9056                                             Gambit                 PG-13\n",
      "9066                                   Don Juan DeMarco                 PG-13\n",
      "9074                                         Jessabelle                 PG-13\n",
      "9076                                         The Marine                 PG-13\n",
      "\n",
      "[1942 rows x 2 columns]\n"
     ]
    }
   ],
   "source": [
    "print(\"Фильмы, чей возрастной рейтинг равен PG-13\\n\")\n",
    "print(df_select_2.loc[:, [\"Title\", \"Motion Picture Rating\"]])"
   ]
  },
  {
   "cell_type": "markdown",
   "id": "96c26cdb-fa45-437f-afec-e62aa0c9ec81",
   "metadata": {},
   "source": [
    "##### За период с 1915 г. по 2023 г. было выпущено 1942 фильма с рейтингом PG-13"
   ]
  },
  {
   "cell_type": "code",
   "execution_count": 39,
   "id": "1a5f6319-1c4d-42b9-b137-77e4450bcdb5",
   "metadata": {},
   "outputs": [],
   "source": [
    "selected_genres = ['Comedy']\n",
    "df_select_3 = df[df['Main Genres'].isin(selected_genres)]"
   ]
  },
  {
   "cell_type": "code",
   "execution_count": 41,
   "id": "19cf0e94-c7a7-47da-b20c-54ac8604a5ba",
   "metadata": {},
   "outputs": [
    {
     "name": "stdout",
     "output_type": "stream",
     "text": [
      "Фильмы - комедии\n",
      "\n",
      "                                                  Title Main Genres\n",
      "21    Please Don't Destroy: The Treasure of Foggy Mo...      Comedy\n",
      "29                National Lampoon's Christmas Vacation      Comedy\n",
      "49                                             Old Dads      Comedy\n",
      "52                                                EXmas      Comedy\n",
      "99                                        All-Time High      Comedy\n",
      "...                                                 ...         ...\n",
      "8965              The Discreet Charm of the Bourgeoisie      Comedy\n",
      "8982                                       Action Point      Comedy\n",
      "8988                                The Slammin' Salmon      Comedy\n",
      "9046                                 Carry on Constable      Comedy\n",
      "9068                                            Rossini      Comedy\n",
      "\n",
      "[271 rows x 2 columns]\n"
     ]
    }
   ],
   "source": [
    "print(\"Фильмы - комедии\\n\")\n",
    "print(df_select_3.loc[:, [\"Title\", \"Main Genres\"]])"
   ]
  },
  {
   "cell_type": "markdown",
   "id": "ad27328d-b394-491e-aad1-9adb673dc9fa",
   "metadata": {},
   "source": [
    "##### За период с 1915 г. по 2023 г. была выпущена 271 комедия"
   ]
  },
  {
   "cell_type": "code",
   "execution_count": 42,
   "id": "395f0e57-52cc-4808-8fea-7966700376b5",
   "metadata": {},
   "outputs": [],
   "source": [
    "df_select_4 = df[df['Director'] == 'David Fincher']"
   ]
  },
  {
   "cell_type": "code",
   "execution_count": 43,
   "id": "51fd8c4b-84ea-4e43-b128-4d5d0bc250b5",
   "metadata": {},
   "outputs": [
    {
     "name": "stdout",
     "output_type": "stream",
     "text": [
      "Таблица фильмов, режиссером которых является Дэвид Финчер\n",
      "\n",
      "                                    Title       Director\n",
      "2                              The Killer  David Fincher\n",
      "283                                Alien³  David Fincher\n",
      "726                            Fight Club  David Fincher\n",
      "1181                           Panic Room  David Fincher\n",
      "1257                                Se7en  David Fincher\n",
      "1266                            Gone Girl  David Fincher\n",
      "2356                   The Social Network  David Fincher\n",
      "3459      The Girl with the Dragon Tattoo  David Fincher\n",
      "3988                               Zodiac  David Fincher\n",
      "6687                                 Mank  David Fincher\n",
      "6691                             The Game  David Fincher\n",
      "7256  The Curious Case of Benjamin Button  David Fincher\n"
     ]
    }
   ],
   "source": [
    "print(\"Таблица фильмов, режиссером которых является Дэвид Финчер\\n\")\n",
    "print(df_select_4.loc[:, [\"Title\", \"Director\"]])"
   ]
  },
  {
   "cell_type": "markdown",
   "id": "e19f2c42-20e4-483e-b43e-5666df360a77",
   "metadata": {},
   "source": [
    "##### Дэвид Финчер является режиссером 12 фильмов."
   ]
  },
  {
   "cell_type": "code",
   "execution_count": 19,
   "id": "d5e10266-47b0-495d-a8d5-31944e03d6c1",
   "metadata": {},
   "outputs": [],
   "source": [
    "df_select_5 = df[(df['Release Year'] == 2000) & (df['Motion Picture Rating'] == 'R')]"
   ]
  },
  {
   "cell_type": "code",
   "execution_count": 21,
   "id": "19ac3c8a-540f-433c-9f9d-52da8b0705ae",
   "metadata": {},
   "outputs": [
    {
     "name": "stdout",
     "output_type": "stream",
     "text": [
      "Таблица фильмов, выпущенных в 2000 году с возрастным рейтингом R\n",
      "\n",
      "                            Title  Release Year Motion Picture Rating\n",
      "82                      Gladiator        2000.0                     R\n",
      "271                   The Patriot        2000.0                     R\n",
      "277          The Whole Nine Yards        2000.0                     R\n",
      "563                      The Gift        2000.0                     R\n",
      "758             Final Destination        2000.0                     R\n",
      "794                      Scream 3        2000.0                     R\n",
      "953                    Hollow Man        2000.0                     R\n",
      "1064                    Road Trip        2000.0                     R\n",
      "1074                    The Beach        2000.0                     R\n",
      "1316              Erin Brockovich        2000.0                     R\n",
      "1413                      Traffic        2000.0                     R\n",
      "1482           Me, Myself & Irene        2000.0                     R\n",
      "1619                     The Cell        2000.0                     R\n",
      "2071                 Billy Elliot        2000.0                     R\n",
      "2347              American Psycho        2000.0                     R\n",
      "2390                High Fidelity        2000.0                     R\n",
      "2982           Dancer in the Dark        2000.0                     R\n",
      "3053                Amores Perros        2000.0                     R\n",
      "3056                  Pitch Black        2000.0                     R\n",
      "3254                 Men of Honor        2000.0                     R\n",
      "3378                   Sexy Beast        2000.0                     R\n",
      "3387                       Quills        2000.0                     R\n",
      "3661               Reindeer Games        2000.0                     R\n",
      "3750           Harrison's Flowers        2000.0                     R\n",
      "3901                 Dracula 2000        2000.0                     R\n",
      "4000                      Memento        2000.0                     R\n",
      "4007                       Malena        2000.0                     R\n",
      "4097        Shadow of the Vampire        2000.0                     R\n",
      "5064                       Snatch        2000.0                     R\n",
      "5208                    The Yards        2000.0                     R\n",
      "5255                  Boiler Room        2000.0                     R\n",
      "5327                    100 Girls        2000.0                     R\n",
      "5944               Romeo Must Die        2000.0                     R\n",
      "5978                        Shaft        2000.0                     R\n",
      "5991                    Tigerland        2000.0                     R\n",
      "6058                   Get Carter        2000.0                     R\n",
      "6072           The Crimson Rivers        2000.0                     R\n",
      "6202  Vampire Hunter D: Bloodlust        2000.0                     R\n",
      "6300                  Wonder Boys        2000.0                     R\n",
      "6399                      Chopper        2000.0                     R\n",
      "6492              Under Suspicion        2000.0                     R\n",
      "7253                Almost Famous        2000.0                     R\n",
      "7557                     Together        2000.0                     R\n",
      "7813                  Scary Movie        2000.0                     R\n",
      "8047          You Can Count on Me        2000.0                     R\n",
      "8181          Rules of Engagement        2000.0                     R\n",
      "8244                Proof of Life        2000.0                     R\n",
      "8720                 Saving Grace        2000.0                     R\n",
      "8890                  Nine Queens        2000.0                     R\n",
      "8898           The Way of the Gun        2000.0                     R\n",
      "Title                    50\n",
      "Release Year             50\n",
      "Motion Picture Rating    50\n",
      "dtype: int64\n"
     ]
    }
   ],
   "source": [
    "print(\"Таблица фильмов, выпущенных в 2000 году с возрастным рейтингом R\\n\")\n",
    "print(df_select_5.loc[:, [\"Title\", \"Release Year\", \"Motion Picture Rating\"]])\n",
    "print(df_select_5.loc[:, [\"Title\", \"Release Year\", \"Motion Picture Rating\"]].count())"
   ]
  },
  {
   "cell_type": "markdown",
   "id": "e57e7de3-9739-489a-af69-e0e966de50e9",
   "metadata": {},
   "source": [
    "##### В 2000 году было выпущено 50 фильмов с рейтингом R."
   ]
  },
  {
   "cell_type": "markdown",
   "id": "e6d3e45d-f6e6-49e3-8717-2f98e991b0d0",
   "metadata": {},
   "source": [
    "### Агрегирующие запросы"
   ]
  },
  {
   "cell_type": "code",
   "execution_count": 50,
   "id": "3fefaeec-f444-4141-88f0-e9ffcf547c48",
   "metadata": {},
   "outputs": [],
   "source": [
    "min_release_year = df['Release Year'].min()"
   ]
  },
  {
   "cell_type": "code",
   "execution_count": 62,
   "id": "8cf1f77d-0f2c-4132-b6a5-01d9bb5278f2",
   "metadata": {},
   "outputs": [
    {
     "name": "stdout",
     "output_type": "stream",
     "text": [
      "Самый ранний год, когда был выпущен фильм:\n",
      "1915.0\n"
     ]
    }
   ],
   "source": [
    "print(\"Самый ранний год, когда был выпущен фильм:\")\n",
    "print(min_release_year)"
   ]
  },
  {
   "cell_type": "code",
   "execution_count": 52,
   "id": "e429dd68-d655-4f4d-a5ce-73c20131c492",
   "metadata": {},
   "outputs": [],
   "source": [
    "max_release_year = df['Release Year'].max()"
   ]
  },
  {
   "cell_type": "code",
   "execution_count": 63,
   "id": "ce955881-5a7f-4ae8-b4df-f981c28369d7",
   "metadata": {},
   "outputs": [
    {
     "name": "stdout",
     "output_type": "stream",
     "text": [
      "Год выпуска самого позднего фильма\n",
      "2027.0\n"
     ]
    }
   ],
   "source": [
    "print(\"Год выпуска самого позднего фильма\")\n",
    "print(max_release_year)"
   ]
  },
  {
   "cell_type": "code",
   "execution_count": 54,
   "id": "60a946ec-f3a0-4ee6-b3b3-bf5fc5709fcf",
   "metadata": {},
   "outputs": [],
   "source": [
    "summary_by_director = df.groupby('Director').agg({'Title': 'count'})"
   ]
  },
  {
   "cell_type": "code",
   "execution_count": 65,
   "id": "ec268cb5-4608-496e-a540-44cdc22712d0",
   "metadata": {},
   "outputs": [
    {
     "name": "stdout",
     "output_type": "stream",
     "text": [
      "Количество фильмов, снятых определенным режиссером\n",
      "\n",
      "                               Title\n",
      "Director                            \n",
      "A. Edward Sutherland               1\n",
      "A.J. Edwards                       1\n",
      "A.K. Sajan                         1\n",
      "A.V. Rockwell                      1\n",
      "Aanand L. Rai                      1\n",
      "...                              ...\n",
      "Élie Chouraqui                     2\n",
      "Éric Besnard                       1\n",
      "Éric Toledano,Olivier Nakache      2\n",
      "Éric Warin,Eric Summer             1\n",
      "Óskar Thór Axelsson                1\n",
      "\n",
      "[4363 rows x 1 columns]\n"
     ]
    }
   ],
   "source": [
    "print(\"Количество фильмов, снятых определенным режиссером\\n\")\n",
    "print(summary_by_director)"
   ]
  },
  {
   "cell_type": "code",
   "execution_count": 56,
   "id": "0e03bdc3-99db-4b5e-8e00-80ea148ec9c4",
   "metadata": {},
   "outputs": [],
   "source": [
    "summary_by_rating = df.groupby('Motion Picture Rating').agg({'Title': 'count'})"
   ]
  },
  {
   "cell_type": "code",
   "execution_count": 68,
   "id": "5d7b3edc-8416-4f26-8460-d910915ba0e8",
   "metadata": {},
   "outputs": [
    {
     "name": "stdout",
     "output_type": "stream",
     "text": [
      "Распределение фильмов по возрастным рейтингам\n",
      "\n",
      "                       Title\n",
      "Motion Picture Rating       \n",
      "13+                        7\n",
      "16+                        7\n",
      "18+                        5\n",
      "Approved                 150\n",
      "G                        213\n",
      "GP                        17\n",
      "M                          5\n",
      "M/PG                       3\n",
      "MA-17                      1\n",
      "NC-17                     25\n",
      "Not Rated                599\n",
      "PG                      1148\n",
      "PG-13                   1942\n",
      "Passed                   109\n",
      "R                       3508\n",
      "T                          1\n",
      "TV-14                     87\n",
      "TV-G                      17\n",
      "TV-MA                    242\n",
      "TV-PG                     49\n",
      "TV-Y                       1\n",
      "TV-Y7                      2\n",
      "TV-Y7-FV                   1\n",
      "Unrated                  124\n",
      "X                         22\n"
     ]
    }
   ],
   "source": [
    "print(\"Распределение фильмов по возрастным рейтингам\\n\")\n",
    "print(summary_by_rating)"
   ]
  }
 ],
 "metadata": {
  "kernelspec": {
   "display_name": "Python 3 (ipykernel)",
   "language": "python",
   "name": "python3"
  },
  "language_info": {
   "codemirror_mode": {
    "name": "ipython",
    "version": 3
   },
   "file_extension": ".py",
   "mimetype": "text/x-python",
   "name": "python",
   "nbconvert_exporter": "python",
   "pygments_lexer": "ipython3",
   "version": "3.10.12"
  }
 },
 "nbformat": 4,
 "nbformat_minor": 5
}
